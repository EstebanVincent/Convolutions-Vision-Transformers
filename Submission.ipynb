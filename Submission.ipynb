{
  "cells": [
    {
      "cell_type": "markdown",
      "metadata": {
        "id": "suOoDajz5YLw"
      },
      "source": [
        "# Convolutions-Vision-Transformers\n",
        "\n",
        "Implementation of [CvT: Introducing Convolutions to Vision Transformers](https://arxiv.org/abs/2103.15808)\n",
        "\n",
        "![Pipeline](figures/pipeline.svg)\n",
        "\n",
        "Dataset used: [Tom and Jerry Image classification | Kaggle](https://www.kaggle.com/datasets/balabaskar/tom-and-jerry-image-classification)\n",
        "\n",
        "\n",
        "\n",
        "University of Rome, La Sapienza. Artificial Intelligence and Robotics. Neural Networks Course A.Y. 2022/23\n",
        "\n",
        "Esteban Vincent | Aurélien Lurois"
      ]
    },
    {
      "cell_type": "code",
      "execution_count": 6,
      "metadata": {
        "id": "elQNhjwi9x3X"
      },
      "outputs": [],
      "source": [
        "#!pip install -q -r requirements.txt "
      ]
    },
    {
      "cell_type": "code",
      "execution_count": 7,
      "metadata": {
        "id": "YRxVlHf-ApLZ"
      },
      "outputs": [],
      "source": [
        "#!pip install einops"
      ]
    },
    {
      "cell_type": "code",
      "execution_count": 8,
      "metadata": {
        "id": "2f-GhYtU_HFE"
      },
      "outputs": [],
      "source": [
        "#archive.zip is an archive containing the folders 'cvt' and 'dataset'\n",
        "#!unzip archive"
      ]
    },
    {
      "cell_type": "code",
      "execution_count": 9,
      "metadata": {
        "id": "n2EjNSyl5YLx"
      },
      "outputs": [],
      "source": [
        "#@title Imports\n",
        "import torch\n",
        "import torch.nn as nn\n",
        "import torch.optim as optim\n",
        "import numpy as np\n",
        "from cvt.cvt import CvT\n",
        "import pandas as pd\n",
        "from sklearn.model_selection import train_test_split\n",
        "from torch.utils.data import Dataset, DataLoader\n",
        "from PIL import Image\n",
        "from tqdm import tqdm"
      ]
    },
    {
      "cell_type": "code",
      "execution_count": 10,
      "metadata": {
        "id": "04r6d1_Y5YLz"
      },
      "outputs": [],
      "source": [
        "device = 'cuda' if torch.cuda.is_available() else 'cpu'\n",
        "model = CvT(128, 3, 4).to(device)\n",
        "\n",
        "df = pd.read_csv(\"dataset/ground_truth.csv\")\n",
        "df = df[[\"filename\", \"class\"]]\n",
        "\n",
        "train_df, test_df = train_test_split(df, test_size=0.2)"
      ]
    },
    {
      "cell_type": "code",
      "execution_count": 11,
      "metadata": {
        "id": "oMhZk4SH5YL0"
      },
      "outputs": [],
      "source": [
        "class FrameDataset(Dataset):\n",
        "    def __init__(self, df):\n",
        "        self.filenames = df[\"filename\"].tolist()\n",
        "        self.images = []\n",
        "        self.labels = df[\"class\"].tolist()\n",
        "\n",
        "        for filename in tqdm(self.filenames):\n",
        "            img = Image.open(f\"dataset/imgs/{filename}\")\n",
        "            # Convert the image to a PyTorch tensor\n",
        "            img_tensor = torch.from_numpy(\n",
        "                np.array(img)).permute(2, 0, 1)\n",
        "\n",
        "            # Normalize the tensor by dividing by 255\n",
        "            img_tensor = img_tensor.float() / 255\n",
        "            self.images.append(img_tensor)\n",
        "\n",
        "    def __len__(self):\n",
        "        return len(self.labels)\n",
        "\n",
        "    def __getitem__(self, idx):\n",
        "        return (self.images[idx], self.labels[idx])"
      ]
    },
    {
      "cell_type": "code",
      "execution_count": 17,
      "metadata": {
        "colab": {
          "base_uri": "https://localhost:8080/"
        },
        "id": "DSwYkx_h5YL0",
        "outputId": "086c98d5-2d7b-4b9f-d782-86c6e373797d"
      },
      "outputs": [
        {
          "name": "stderr",
          "output_type": "stream",
          "text": [
            "100%|██████████| 4382/4382 [00:02<00:00, 1631.84it/s]\n"
          ]
        }
      ],
      "source": [
        "train_loader = DataLoader(FrameDataset(train_df), batch_size=32, shuffle=True)\n",
        "\n",
        "# Define the loss function\n",
        "loss_fun = nn.CrossEntropyLoss()\n",
        "\n",
        "# Choose an optimizer\n",
        "optimizer = optim.Adam(model.parameters(), lr=0.02)"
      ]
    },
    {
      "cell_type": "code",
      "execution_count": null,
      "metadata": {
        "colab": {
          "base_uri": "https://localhost:8080/"
        },
        "id": "ja-nuMHW5YL1",
        "outputId": "b0d7054f-4003-4d46-ddbe-a9946b725b54"
      },
      "outputs": [
        {
          "name": "stderr",
          "output_type": "stream",
          "text": [
            "Images: 100%|██████████| 35/35 [00:25<00:00,  1.38it/s]\n",
            "Epochs:   7%|▋         | 1/15 [00:25<05:55, 25.41s/it]"
          ]
        },
        {
          "name": "stdout",
          "output_type": "stream",
          "text": [
            "Epoch 1 training loss: 1.363\n"
          ]
        },
        {
          "name": "stderr",
          "output_type": "stream",
          "text": [
            "Images: 100%|██████████| 35/35 [00:25<00:00,  1.35it/s]\n",
            "Epochs:  13%|█▎        | 2/15 [00:51<05:34, 25.70s/it]"
          ]
        },
        {
          "name": "stdout",
          "output_type": "stream",
          "text": [
            "Epoch 2 training loss: 1.338\n"
          ]
        },
        {
          "name": "stderr",
          "output_type": "stream",
          "text": [
            "Images: 100%|██████████| 35/35 [00:25<00:00,  1.39it/s]\n",
            "Epochs:  20%|██        | 3/15 [01:16<05:06, 25.51s/it]"
          ]
        },
        {
          "name": "stdout",
          "output_type": "stream",
          "text": [
            "Epoch 3 training loss: 1.338\n"
          ]
        },
        {
          "name": "stderr",
          "output_type": "stream",
          "text": [
            "Images:  43%|████▎     | 15/35 [00:10<00:14,  1.37it/s]"
          ]
        }
      ],
      "source": [
        "#@title Train the model\n",
        "model.train()\n",
        "for epoch in tqdm(range(15), desc=\"Epochs\"):\n",
        "    running_loss = 0.0\n",
        "    for image, label in tqdm(train_loader, desc=\"Images\", position=0, leave=True):\n",
        "        optimizer.zero_grad()\n",
        "\n",
        "        output = model(image.to(device))\n",
        "        loss = loss_fun(output, label.to(device))\n",
        "        loss.backward()\n",
        "        optimizer.step()\n",
        "\n",
        "        running_loss += loss.item()\n",
        "\n",
        "    print(f'Epoch {epoch+1} training loss: {running_loss/len(train_loader):.3f}')"
      ]
    }
  ],
  "metadata": {
    "accelerator": "GPU",
    "colab": {
      "provenance": []
    },
    "gpuClass": "standard",
    "kernelspec": {
      "display_name": "base",
      "language": "python",
      "name": "python3"
    },
    "language_info": {
      "codemirror_mode": {
        "name": "ipython",
        "version": 3
      },
      "file_extension": ".py",
      "mimetype": "text/x-python",
      "name": "python",
      "nbconvert_exporter": "python",
      "pygments_lexer": "ipython3",
      "version": "3.9.13"
    },
    "orig_nbformat": 4,
    "vscode": {
      "interpreter": {
        "hash": "1f51ebf97255b9cfc122671bb8efd8e93003386cd40067f574c199b08d871ba8"
      }
    }
  },
  "nbformat": 4,
  "nbformat_minor": 0
}
