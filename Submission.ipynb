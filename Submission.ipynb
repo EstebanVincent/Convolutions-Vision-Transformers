{
 "cells": [
  {
   "attachments": {},
   "cell_type": "markdown",
   "metadata": {},
   "source": [
    "# Convolutions-Vision-Transformers\n",
    "\n",
    "Implementation of [CvT: Introducing Convolutions to Vision Transformers](https://arxiv.org/abs/2103.15808)\n",
    "\n",
    "![Pipeline](figures/pipeline.svg)\n",
    "\n",
    "Dataset used: [Tom and Jerry Image classification | Kaggle](https://www.kaggle.com/datasets/balabaskar/tom-and-jerry-image-classification)\n",
    "\n",
    "\n",
    "\n",
    "University of Rome, La Sapienza. Artificial Intelligence and Robotics. Neural Networks Course A.Y. 2022/23\n",
    "\n",
    "Esteban Vincent | Aurélien Lurois"
   ]
  }
 ],
 "metadata": {
  "kernelspec": {
   "display_name": "base",
   "language": "python",
   "name": "python3"
  },
  "language_info": {
   "codemirror_mode": {
    "name": "ipython",
    "version": 3
   },
   "file_extension": ".py",
   "mimetype": "text/x-python",
   "name": "python",
   "nbconvert_exporter": "python",
   "pygments_lexer": "ipython3",
   "version": "3.9.13"
  },
  "orig_nbformat": 4,
  "vscode": {
   "interpreter": {
    "hash": "1f51ebf97255b9cfc122671bb8efd8e93003386cd40067f574c199b08d871ba8"
   }
  }
 },
 "nbformat": 4,
 "nbformat_minor": 2
}
